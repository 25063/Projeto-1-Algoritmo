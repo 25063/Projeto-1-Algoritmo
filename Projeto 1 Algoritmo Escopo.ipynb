{
  "cells": [
    {
      "metadata": {
        "collapsed": true
      },
      "cell_type": "markdown",
      "source": "<center> <h2>Má Administração em Serviços</h2></center>\n"
    },
    {
      "metadata": {},
      "cell_type": "markdown",
      "source": "<i>A grande espera com as filas em bancos, hospitais, supermercados, etc..., são problemas recorrentes na sociedade em que vivemos, e numa geração onde o mundo pede agilidade isso acaba sendo um empecilho. Utilizando como estudo de caso as próprias unidades de saúde presentes no cotidiano, percebemos essa necessidade através de visitas, vimos também que as grandes causas dessa problematica é a má administração por parte da coordenação das unidades. \n    Atualmente, já existem vários meios utilizados para se esse, como por exemplo a distribuição de fichas, mas nossa ideia é focar no desenvolvimento de uma melhoria para toda administração em geral.</i>"
    },
    {
      "metadata": {
        "trusted": true
      },
      "cell_type": "markdown",
      "source": "<i>A princípio iniciaremos a criação de um algoritmo para gerenciamento e agendamento da parte administrativa do atendimento, para que haja um diminuição do tempo em que uma pessoa faria todo um cadastramento do cliente, em seguida criar uma parte direcionada apenas para envio de lembretes e informações aos clientes, fazendo com que os atendimentos fossem mais acertivos, trazendo o cliente a participar de maneira direcionada, e levando o mesmo interagir com o sistema, informando, se vai atrasar, ou se não virá. Uma análise do quão efetivo foi o algoritmo seria feita para identificar quais mudanças e adaptações poderão ser feitas para melhorar tanto o algoritmo quanto o atendimento ao cliente. O \"termômetro\" do quão funcional e didático o algoritmo é, seria o cliente e suas impressões de como foi sua experiência./i>\n\n"
    },
    {
      "metadata": {
        "trusted": true
      },
      "cell_type": "code",
      "source": "",
      "execution_count": null,
      "outputs": []
    },
    {
      "metadata": {
        "trusted": true
      },
      "cell_type": "code",
      "source": "",
      "execution_count": null,
      "outputs": []
    }
  ],
  "metadata": {
    "kernelspec": {
      "name": "python36",
      "display_name": "Python 3.6",
      "language": "python"
    },
    "language_info": {
      "mimetype": "text/x-python",
      "nbconvert_exporter": "python",
      "name": "python",
      "pygments_lexer": "ipython3",
      "version": "3.6.6",
      "file_extension": ".py",
      "codemirror_mode": {
        "version": 3,
        "name": "ipython"
      }
    }
  },
  "nbformat": 4,
  "nbformat_minor": 2
}