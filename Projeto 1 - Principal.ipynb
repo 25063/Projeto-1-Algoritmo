{
  "cells": [
    {
      "metadata": {
        "collapsed": true
      },
      "cell_type": "markdown",
      "source": "<center> <h2>Gerenciamento de cadastros</h2></center>\n"
    },
    {
      "metadata": {},
      "cell_type": "markdown",
      "source": "<h2>Problema</h2>"
    },
    {
      "metadata": {
        "trusted": true
      },
      "cell_type": "markdown",
      "source": "\n</i>A grande espera com as filas em bancos, hospitais, supermercados, etc..., são problemas recorrentes na sociedade em que vivemos, e numa geração onde o mundo pede agilidade isso acaba sendo um empecilho. Utilizando como estudo de caso as próprias unidades de saúde presentes no cotidiano, percebemos essa necessidade através de visitas, vimos também que as grandes causas dessa problematica é a má administração por parte da coordenação das unidades. \n    Atualmente, já existem vários meios utilizados para se esse, como por exemplo a distribuição de fichas, mas nossa ideia é focar no desenvolvimento de uma melhoria para toda administração em geral.</i>"
    },
    {
      "metadata": {
        "trusted": true
      },
      "cell_type": "markdown",
      "source": "<h2> Escopo </h2>\n"
    },
    {
      "metadata": {
        "trusted": true
      },
      "cell_type": "markdown",
      "source": "</i>A princípio iniciaremos a criação de um algoritmo para gerenciamento e agendamento da parte administrativa do atendimento, para que haja um diminuição do tempo em que uma pessoa faria todo um cadastramento do usuário, inserindo-o automáticamente ao banco de dados de acordo com sua classificação e a uma lista de atendimento atual, a lista atual faria a organização do atendimento de acordo com sua classificação. Em seguida a lista atual mostraria a ordem de atendimento ao usuário em uma pequena tela o responsável que faria a chamada. Em seguida, será feita uma pequena lista para agendamentos no calendário, que ao ser marcado qualquer tipo de reunião em determinado dia, o algoritmo irá analisar quais usuários estão marcados para aquela data e irá procurar dentro os banco de dados a sua informação de contato para enviar um lembrete com um dia de antecedência para seu email ou whatsapp avisando da reunião marcada. \n     \nO usuário também poderia dar um feedback pessoalmente se acha que o sistema está sendo produtivo, incentivando assim melhorias gradativas de acordo com o tempo, identificando também quais os tipos de adaptaçõies poderão ser feita tanto no algoritmo quanto no atendimento ao cliente. O \"termômetro\" do quão funcional e didático o algoritmo é, seria o cliente e suas impressões de como foi sua experiência.</i>"
    },
    {
      "metadata": {},
      "cell_type": "markdown",
      "source": "<h2>Conclusão</h2>\n"
    },
    {
      "metadata": {},
      "cell_type": "markdown",
      "source": "</i>Portanto, ao implantar o algoritmo já finalizado, há a espera de que haja uma grande diminuição do tempo de cadastramento e atendimento ao usuário, otimizando o trabalho e fazendo com que o grau de satisfação e insatisfação do usuário e do funcionário sejam maiores e menores, respectivamente.</i>"
    },
    {
      "metadata": {
        "trusted": true
      },
      "cell_type": "code",
      "source": "",
      "execution_count": null,
      "outputs": []
    }
  ],
  "metadata": {
    "kernelspec": {
      "name": "python36",
      "display_name": "Python 3.6",
      "language": "python"
    },
    "language_info": {
      "mimetype": "text/x-python",
      "nbconvert_exporter": "python",
      "name": "python",
      "pygments_lexer": "ipython3",
      "version": "3.6.6",
      "file_extension": ".py",
      "codemirror_mode": {
        "version": 3,
        "name": "ipython"
      }
    }
  },
  "nbformat": 4,
  "nbformat_minor": 2
}