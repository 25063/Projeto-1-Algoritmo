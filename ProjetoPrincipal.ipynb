{
  "cells": [
    {
      "metadata": {
        "collapsed": true
      },
      "cell_type": "markdown",
      "source": "<center> <h2>Má Administração em Serviços</h2></center>\n"
    },
    {
      "metadata": {},
      "cell_type": "markdown",
      "source": "<i>A grande espera com as filas em bancos, hospitais, supermercados, etc..., são problemas recorrentes na sociedade em que vivemos, e numa geração onde o mundo pede agilidade isso acaba sendo um empecilho. Utilizando como estudo de caso as próprias unidades de saúde presentes no cotidiano, percebemos essa necessidade através de visitas, vimos também que as grandes causas dessa problematica é a má administração por parte da coordenação das unidades. \n    Atualmente, já existem vários meios utilizados para se gerenciar o tempo, como por exemplo a distribuição de fichas, mas nossa ideia é focar no desenvolvimento de uma melhoria para toda administração em geral.</i>"
    },
    {
      "metadata": {
        "trusted": true
      },
      "cell_type": "code",
      "source": "\n",
      "execution_count": null,
      "outputs": []
    },
    {
      "metadata": {
        "trusted": true
      },
      "cell_type": "code",
      "source": "",
      "execution_count": null,
      "outputs": []
    },
    {
      "metadata": {
        "trusted": true
      },
      "cell_type": "code",
      "source": "",
      "execution_count": null,
      "outputs": []
    }
  ],
  "metadata": {
    "kernelspec": {
      "name": "python36",
      "display_name": "Python 3.6",
      "language": "python"
    },
    "language_info": {
      "mimetype": "text/x-python",
      "nbconvert_exporter": "python",
      "name": "python",
      "pygments_lexer": "ipython3",
      "version": "3.6.6",
      "file_extension": ".py",
      "codemirror_mode": {
        "version": 3,
        "name": "ipython"
      }
    }
  },
  "nbformat": 4,
  "nbformat_minor": 2
}