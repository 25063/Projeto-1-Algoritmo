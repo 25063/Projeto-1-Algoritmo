{
  "cells": [
    {
      "metadata": {
        "collapsed": true
      },
      "cell_type": "markdown",
      "source": "<center> <h2>Gerenciamento de cadastros</h2></center>\n"
    },
    {
      "metadata": {},
      "cell_type": "markdown",
      "source": "<h2>Problema</h2>"
    },
    {
      "metadata": {
        "trusted": true
      },
      "cell_type": "markdown",
      "source": "\n</i>A grande espera com as filas em bancos, hospitais, supermercados, etc..., são problemas recorrentes na sociedade em que vivemos, e numa geração onde o mundo pede agilidade isso acaba sendo um empecilho. Utilizando como estudo de caso as próprias unidades de saúde presentes no cotidiano, percebemos essa necessidade através de visitas, vimos também que as grandes causas dessa problematica é a má administração por parte da coordenação das unidades. \n    Atualmente, já existem vários meios utilizados para se esse, como por exemplo a distribuição de fichas, mas nossa ideia é focar no desenvolvimento de uma melhoria para toda administração em geral.</i>"
    },
    {
      "metadata": {
        "trusted": true
      },
      "cell_type": "markdown",
      "source": "<h2> Escopo </h2>\n"
    },
    {
      "metadata": {
        "trusted": true
      },
      "cell_type": "markdown",
      "source": "</i>A princípio iniciaremos a criação de um algoritmo para gerenciamento e agendamento da parte administrativa do atendimento, para que haja um diminuição do tempo em que uma pessoa faria todo um cadastramento do usuário, inserindo-o automáticamente ao banco de dados de acordo com sua classificação e a uma lista de atendimento atual, a lista atual faria a organização do atendimento de acordo com sua classificação. Em seguida a lista atual mostraria a ordem de atendimento ao usuário em uma pequena tela o responsável que faria a chamada. Em seguida, será feita uma pequena lista para agendamentos no calendário, que ao ser marcado qualquer tipo de reunião em determinado dia, o algoritmo irá analisar quais usuários estão marcados para aquela data e irá procurar dentro os banco de dados a sua informação de contato para enviar um lembrete com um dia de antecedência para seu email ou whatsapp avisando da reunião marcada. \n     \nO usuário também poderia dar um feedback pessoalmente se acha que o sistema está sendo produtivo, incentivando assim melhorias gradativas de acordo com o tempo, identificando também quais os tipos de adaptaçõies poderão ser feita tanto no algoritmo quanto no atendimento ao cliente. O \"termômetro\" do quão funcional e didático o algoritmo é, seria o cliente e suas impressões de como foi sua experiência.</i>"
    },
    {
      "metadata": {},
      "cell_type": "markdown",
      "source": "<h2>Conclusão</h2>\n"
    },
    {
      "metadata": {},
      "cell_type": "markdown",
      "source": "</i>Portanto, ao implantar o algoritmo já finalizado, há a espera de que haja uma grande diminuição do tempo de cadastramento e atendimento ao usuário, otimizando o trabalho e fazendo com que o grau de satisfação e insatisfação do usuário e do funcionário sejam maiores e menores, respectivamente.</i>"
    },
    {
      "metadata": {
        "trusted": true
      },
      "cell_type": "markdown",
      "source": "<h2>Implementação</h2>"
    },
    {
      "metadata": {},
      "cell_type": "markdown",
      "source": "</i>O Código começa com a definição de algumas variáveis, para a partir daí começar a execução das funcões.</i>"
    },
    {
      "metadata": {
        "trusted": true
      },
      "cell_type": "code",
      "source": "bd = []\nbdPref = []\ncomeço = True",
      "execution_count": null,
      "outputs": []
    },
    {
      "metadata": {},
      "cell_type": "markdown",
      "source": "<i>Após a definição das variáveis, será apresentado um menu com opções para o usuário escolher, dependendo da opção escolhida o programa irá rodar obedecendo a uma condicional diferente para cadastro, visualização de dados, checagem e validação.</i>"
    },
    {
      "metadata": {
        "trusted": true
      },
      "cell_type": "code",
      "source": "\nwhile começo == True:  # Condicional de repetição  \\n Menu de opções\n\tprint('''             \n\t1. Cadastro\n\t2. Lista de Atendimento\n\t3. Pesquisar\n\t0. Sair\\n'''\n\n\t\t  )\n\topcao = int(input('Opção desejada:'))           # Input da opção escolhida pelo usuário\n\n\tif opcao == 1:                # Checagem, se opção for igual a 1 a função 1 é executada.\n\t\tdici = {}                       # Dicionário que irá armazenar os valores\n\t\tcpf = int(input('CPF: '))\n\t\tname = str(input('Nome: '))\n\t\tpref = str(input('Preferencial: ( S ou N )'.lower()))\n\t\tdate = str(input('*Exemplo(dd/mm/aaaa)\\nData de Nascimento: '))\n\t\tsus = int(input('Número do SUS: '))\n\t\temail = str(input('E-mail (Opcional): '))\n\t\ttelephone = int(input('Telefone: '))\n\t\tcel = int(input('Celular: '))\n\t\tdici = {'CPF': cpf, 'Nome': name, 'Data de Nascimento': date, 'Número do SUS': sus, 'E-mail': email,\n\t\t\t\t'Telefone': telephone, 'Celular': cel, 'Preferencial': pref}\n\n\t\tfor x in range(len(bd)):            # Validação do cadastro\n\t\t\tif bd[x]['CPF'] == cpf:\n\t\t\t\tprint('Cpf já cadastrado, tente novamente')\n\t\t\t\tbreak                    # Se o CPF já estiver cadatrado, não será salvo novamente\n\n\t\tif pref == \"s\".lower():                     # Se pref igual a sim, é inserido na lista preeferencial\n\t\t\tbdPref.append(dici)\n\t\telif pref == \"n\".lower():                   # Se pref igual a não, é inserido na lista não preferencial\n\t\t\tbd.append(dici)\n\n\t\tdel dici                           # Limpa o dicionário para serem armazenados novos valores\n\n\telif opcao == 2:             # Listagem de cadastros\n\t\tbdFinal = []                 # Lista para armazenar os cadatros preferencial ou não, respectivamente\n\n\t\tfor x in range(len(bdPref)):\n\t\t\tbdFinal.append(bdPref[x])                   # Inseri a lista preferencial na Final\n\n\t\tfor z in range(len(bd)):\n\t\t\tbdFinal.append(bd[z])                       # Inseri a lista não preferencial na Final\n\n\t\tfor y in bdFinal:\n\t\t\tprint(y)                               # Printa a Lista Final\n\n\telif opcao == 3:                   # Pesquisa de cadastro em listas\n\t\tc = int(input('cpf:'))             # CPF docadastro desejado\n\n\t\tfor y in range(len(bd)):                \n\t\t\tif bd[y]['CPF'] == c:               # Se CPF em lista, print dados\n\t\t\t\tprint(bd[y])                    #  // //\n\t\t\telif bdPref[y]['CPF'] == c:         #  // //\n\t\t\t\tprint(bdPref[y])                #  // //\n\n\telif opcao == 0:                  # Se opção igual a 0, sai do menu e terminar o programa\n\t\tcomeço = False",
      "execution_count": null,
      "outputs": []
    },
    {
      "metadata": {
        "trusted": true
      },
      "cell_type": "code",
      "source": "",
      "execution_count": null,
      "outputs": []
    }
  ],
  "metadata": {
    "kernelspec": {
      "name": "python36",
      "display_name": "Python 3.6",
      "language": "python"
    },
    "language_info": {
      "mimetype": "text/x-python",
      "nbconvert_exporter": "python",
      "name": "python",
      "pygments_lexer": "ipython3",
      "version": "3.6.6",
      "file_extension": ".py",
      "codemirror_mode": {
        "version": 3,
        "name": "ipython"
      }
    }
  },
  "nbformat": 4,
  "nbformat_minor": 2
}